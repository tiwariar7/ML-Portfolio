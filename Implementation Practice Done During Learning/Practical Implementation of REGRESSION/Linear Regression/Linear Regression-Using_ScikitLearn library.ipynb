{
 "cells": [
  {
   "cell_type": "code",
   "execution_count": 2,
   "id": "bbc34516-7e82-4cf2-8abe-778f492e0f91",
   "metadata": {},
   "outputs": [],
   "source": [
    "import numpy as np\n",
    "import pandas as pd\n",
    "import matplotlib.pyplot as plt"
   ]
  },
  {
   "cell_type": "markdown",
   "id": "aee37933-41c5-4785-8454-4e7967261817",
   "metadata": {},
   "source": [
    "<span style=\"font-size:16px; color:blue;\">Load DataSet do Pre-processing</span> "
   ]
  },
  {
   "cell_type": "code",
   "execution_count": 4,
   "id": "630f6ea4-3a98-44da-868d-4caf8d324dc7",
   "metadata": {},
   "outputs": [
    {
     "data": {
      "text/html": [
       "<div>\n",
       "<style scoped>\n",
       "    .dataframe tbody tr th:only-of-type {\n",
       "        vertical-align: middle;\n",
       "    }\n",
       "\n",
       "    .dataframe tbody tr th {\n",
       "        vertical-align: top;\n",
       "    }\n",
       "\n",
       "    .dataframe thead th {\n",
       "        text-align: right;\n",
       "    }\n",
       "</style>\n",
       "<table border=\"1\" class=\"dataframe\">\n",
       "  <thead>\n",
       "    <tr style=\"text-align: right;\">\n",
       "      <th></th>\n",
       "      <th>x</th>\n",
       "      <th>y</th>\n",
       "    </tr>\n",
       "  </thead>\n",
       "  <tbody>\n",
       "    <tr>\n",
       "      <th>0</th>\n",
       "      <td>24.0</td>\n",
       "      <td>21.549452</td>\n",
       "    </tr>\n",
       "    <tr>\n",
       "      <th>1</th>\n",
       "      <td>50.0</td>\n",
       "      <td>47.464463</td>\n",
       "    </tr>\n",
       "    <tr>\n",
       "      <th>2</th>\n",
       "      <td>15.0</td>\n",
       "      <td>17.218656</td>\n",
       "    </tr>\n",
       "    <tr>\n",
       "      <th>3</th>\n",
       "      <td>38.0</td>\n",
       "      <td>36.586398</td>\n",
       "    </tr>\n",
       "    <tr>\n",
       "      <th>4</th>\n",
       "      <td>87.0</td>\n",
       "      <td>87.288984</td>\n",
       "    </tr>\n",
       "    <tr>\n",
       "      <th>5</th>\n",
       "      <td>36.0</td>\n",
       "      <td>32.463875</td>\n",
       "    </tr>\n",
       "    <tr>\n",
       "      <th>6</th>\n",
       "      <td>12.0</td>\n",
       "      <td>10.780897</td>\n",
       "    </tr>\n",
       "    <tr>\n",
       "      <th>7</th>\n",
       "      <td>81.0</td>\n",
       "      <td>80.763399</td>\n",
       "    </tr>\n",
       "    <tr>\n",
       "      <th>8</th>\n",
       "      <td>25.0</td>\n",
       "      <td>24.612151</td>\n",
       "    </tr>\n",
       "    <tr>\n",
       "      <th>9</th>\n",
       "      <td>5.0</td>\n",
       "      <td>6.963319</td>\n",
       "    </tr>\n",
       "  </tbody>\n",
       "</table>\n",
       "</div>"
      ],
      "text/plain": [
       "      x          y\n",
       "0  24.0  21.549452\n",
       "1  50.0  47.464463\n",
       "2  15.0  17.218656\n",
       "3  38.0  36.586398\n",
       "4  87.0  87.288984\n",
       "5  36.0  32.463875\n",
       "6  12.0  10.780897\n",
       "7  81.0  80.763399\n",
       "8  25.0  24.612151\n",
       "9   5.0   6.963319"
      ]
     },
     "execution_count": 4,
     "metadata": {},
     "output_type": "execute_result"
    }
   ],
   "source": [
    "data = pd.read_csv(\"data_for_lr.csv\")\n",
    "data.head(10)"
   ]
  },
  {
   "cell_type": "code",
   "execution_count": 6,
   "id": "738ad63b-cb1e-4908-93f1-fa63eb282083",
   "metadata": {},
   "outputs": [
    {
     "data": {
      "text/plain": [
       "x    0\n",
       "y    1\n",
       "dtype: int64"
      ]
     },
     "execution_count": 6,
     "metadata": {},
     "output_type": "execute_result"
    }
   ],
   "source": [
    "data.isnull().sum()"
   ]
  },
  {
   "cell_type": "markdown",
   "id": "922d0d2c-b49f-439a-9078-e493b2fbfcb1",
   "metadata": {},
   "source": [
    "<span style=\"font-size:16px; color:blue;\">Data Processing</span> "
   ]
  },
  {
   "cell_type": "code",
   "execution_count": 8,
   "id": "1636aa35-eec4-419c-bd83-2fa1e08852bc",
   "metadata": {},
   "outputs": [
    {
     "name": "stdout",
     "output_type": "stream",
     "text": [
      "(699, 2)\n"
     ]
    }
   ],
   "source": [
    "data = data.dropna()\n",
    "print(data.shape)"
   ]
  },
  {
   "cell_type": "markdown",
   "id": "647a4a15-d947-4338-a5fd-f25de56b6eb6",
   "metadata": {},
   "source": [
    "<span style=\"font-size:16px; color:blue;\">Splitting the Data</span>"
   ]
  },
  {
   "cell_type": "code",
   "execution_count": 10,
   "id": "24ece97f-da35-4ad8-8ef0-6f9d4e1f9188",
   "metadata": {},
   "outputs": [],
   "source": [
    "train_input = np.array(data.x[0:500]).reshape(500,1)\n",
    "train_output = np.array(data.x[0:500]).reshape(500,1)"
   ]
  },
  {
   "cell_type": "markdown",
   "id": "7062b0f3-1c45-4c4d-aaeb-8a5822d170ab",
   "metadata": {},
   "source": [
    "<span style=\"font-size:16px; color:blue;\">Validating Input Output</span>"
   ]
  },
  {
   "cell_type": "code",
   "execution_count": 12,
   "id": "4210ebbe-7953-43de-b8ea-d3196175f883",
   "metadata": {},
   "outputs": [],
   "source": [
    "test_input = np.array(data.x[500:700]).reshape(199,1)\n",
    "test_output = np.array(data.x[500:700]).reshape(199,1)"
   ]
  },
  {
   "cell_type": "markdown",
   "id": "18dc23d6-912a-4c42-aaa6-16afe32aa64f",
   "metadata": {},
   "source": [
    "<span style=\"font-size:22px; color:green;\">Linear Regression</span><br>\n",
    "<span style=\"font-size:20px; color:red;\">Model Training</span> <br>"
   ]
  },
  {
   "cell_type": "code",
   "execution_count": 14,
   "id": "da235a30-2c2f-4ace-9c25-6b0b4096f50f",
   "metadata": {},
   "outputs": [
    {
     "data": {
      "text/plain": [
       "array([0.])"
      ]
     },
     "execution_count": 14,
     "metadata": {},
     "output_type": "execute_result"
    }
   ],
   "source": [
    "from sklearn.linear_model import LinearRegression\n",
    "\n",
    "# Initialize the linear regression model\n",
    "lr_model = LinearRegression()\n",
    "\n",
    "# Fit the model using training data\n",
    "lr_model.fit(train_input, train_output)\n",
    "\n",
    "# Check coefficients and intercept\n",
    "lr_model.coef_\n",
    "lr_model.intercept_"
   ]
  },
  {
   "cell_type": "markdown",
   "id": "4f1d91b2-652a-4811-8337-aa7430c64d39",
   "metadata": {},
   "source": [
    "<span style=\"font-size:20px; color:red;\">Model Prediction</span> <br>"
   ]
  },
  {
   "cell_type": "code",
   "execution_count": 16,
   "id": "8c33dfdd-5a89-46b7-983b-6b6883a0f006",
   "metadata": {},
   "outputs": [
    {
     "data": {
      "image/png": "[encoded data removed]",
      "text/plain": [
       "<Figure size 640x480 with 1 Axes>"
      ]
     },
     "metadata": {},
     "output_type": "display_data"
    }
   ],
   "source": [
    "test_predictions = lr_model.predict(test_input)\n",
    "\n",
    "# Plotting predictions\n",
    "plt.plot(test_input, test_predictions, \"*\", color=\"green\")\n",
    "plt.plot(test_input, test_output, \"*\", color=\"red\")\n",
    "plt.title(\"Performance Testing\")\n",
    "plt.xlabel(\"Input\")\n",
    "plt.ylabel(\"Output/Predictions\")\n",
    "plt.show()"
   ]
  },
  {
   "cell_type": "markdown",
   "id": "5b284ed8-b74a-4951-ab2d-9ef97f471bba",
   "metadata": {},
   "source": [
    "<span style=\"font-size:20px; color:red;\">Cost</span> <br>"
   ]
  },
  {
   "cell_type": "code",
   "execution_count": 18,
   "id": "1204f928-b201-4776-afca-826250d4b4b0",
   "metadata": {},
   "outputs": [
    {
     "data": {
      "text/plain": [
       "0.0"
      ]
     },
     "execution_count": 18,
     "metadata": {},
     "output_type": "execute_result"
    }
   ],
   "source": [
    "from sklearn.metrics import mean_squared_error\n",
    "cost = mean_squared_error(test_output, test_predictions)\n",
    "cost"
   ]
  },
  {
   "cell_type": "code",
   "execution_count": null,
   "id": "b2ba197f-94a4-4366-a0fa-2e55d1a3b9d2",
   "metadata": {},
   "outputs": [],
   "source": []
  }
 ],
 "metadata": {
  "kernelspec": {
   "display_name": "Python 3 (ipykernel)",
   "language": "python",
   "name": "python3"
  },
  "language_info": {
   "codemirror_mode": {
    "name": "ipython",
    "version": 3
   },
   "file_extension": ".py",
   "mimetype": "text/x-python",
   "name": "python",
   "nbconvert_exporter": "python",
   "pygments_lexer": "ipython3",
   "version": "3.12.4"
  }
 },
 "nbformat": 4,
 "nbformat_minor": 5
}
